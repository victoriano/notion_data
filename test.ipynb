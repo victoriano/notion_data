{
 "cells": [
  {
   "cell_type": "code",
   "execution_count": 2,
   "metadata": {},
   "outputs": [],
   "source": [
    "from NotionData import NotionToCSV, get_all_db_entries\n",
    "from pprint import pprint\n",
    "\n",
    "#Taxonomy Table: 2fbdd8aba1604e2385ed7be3a59d1984\n",
    "#Concepts Table: 763f8356f41c45e3934950696f00fa21\n",
    "#Movies 4870a2649b6c4d3784fc8a24196ea690\n",
    "#Podcasts c1f6b77ce50a47b7b1e524c923079c17\n",
    "#Podcasts Channels d4a079211959486495bdef8b61b3e8bc\n",
    "\n",
    "#db = get_all_db_entries(\"d4a079211959486495bdef8b61b3e8bc\")\n",
    "df = NotionToCSV(\"bf063bd3-cdf1-4766-b169-01d182c42adf\")\n",
    "\n",
    "#pprint(db)\n",
    "print(df)"
   ]
  },
  {
   "cell_type": "code",
   "execution_count": null,
   "metadata": {},
   "outputs": [],
   "source": [
    "#Test Parse Notion Page\n",
    "\n",
    "#Meaningful Life 335a46256271479f99551702c34bacae\n",
    "#Fact Example e5c98a65ed91442682a3edf03889cda9\n",
    "#entry = notion_db[\"results\"][1]\n",
    "\n",
    "\n",
    "#entry = notion.pages.retrieve('9599cb93d2eb42878465272bf7ed6135')\n",
    "#pprint(entry)\n",
    "\n",
    "#parse_page_properties(entry[\"properties\"])\n",
    "#parse_page_properties(entry[\"properties\"], relations=True)\n",
    "#pprint(parse_notion_page(entry))\n",
    "#pprint(parse_notion_page(entry, relations=False))"
   ]
  },
  {
   "cell_type": "code",
   "execution_count": null,
   "metadata": {},
   "outputs": [],
   "source": [
    "#Taxonomy Table: 2fbdd8aba1604e2385ed7be3a59d1984\n",
    "#Concepts Table: 763f8356f41c45e3934950696f00fa21\n",
    "#Movies 4870a2649b6c4d3784fc8a24196ea690\n",
    "#Podcasts c1f6b77ce50a47b7b1e524c923079c17\n",
    "\n",
    "#notion_to_csv(\"4870a2649b6c4d3784fc8a24196ea690\")\n",
    "\n",
    "#df = notion_db_to_df(\"4870a2649b6c4d3784fc8a24196ea690\")\n",
    "#df"
   ]
  }
 ],
 "metadata": {
  "interpreter": {
   "hash": "744bb00e3be192935443323dad962c8536d097d62ac773bb8c8608df11db5e6f"
  },
  "kernelspec": {
   "display_name": "Python 3.10.2 64-bit ('myvenv': venv)",
   "language": "python",
   "name": "python3"
  },
  "language_info": {
   "codemirror_mode": {
    "name": "ipython",
    "version": 3
   },
   "file_extension": ".py",
   "mimetype": "text/x-python",
   "name": "python",
   "nbconvert_exporter": "python",
   "pygments_lexer": "ipython3",
   "version": "3.9.10"
  },
  "orig_nbformat": 4
 },
 "nbformat": 4,
 "nbformat_minor": 2
}
