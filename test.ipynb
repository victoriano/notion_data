{
 "cells": [
  {
   "cell_type": "code",
   "execution_count": 1,
   "metadata": {},
   "outputs": [
    {
     "ename": "ModuleNotFoundError",
     "evalue": "No module named 'dotenv'",
     "output_type": "error",
     "traceback": [
      "\u001b[0;31m---------------------------------------------------------------------------\u001b[0m",
      "\u001b[0;31mModuleNotFoundError\u001b[0m                       Traceback (most recent call last)",
      "\u001b[0;32m/var/folders/sd/46s031_x7_s7z1kyvvd03dbr0000gn/T/ipykernel_69951/3195464796.py\u001b[0m in \u001b[0;36m<module>\u001b[0;34m\u001b[0m\n\u001b[0;32m----> 1\u001b[0;31m \u001b[0;32mfrom\u001b[0m \u001b[0mNotionData\u001b[0m \u001b[0;32mimport\u001b[0m \u001b[0mNotionToCSV\u001b[0m\u001b[0;34m\u001b[0m\u001b[0;34m\u001b[0m\u001b[0m\n\u001b[0m\u001b[1;32m      2\u001b[0m \u001b[0;34m\u001b[0m\u001b[0m\n\u001b[1;32m      3\u001b[0m \u001b[0mdf\u001b[0m \u001b[0;34m=\u001b[0m \u001b[0mNotionToCSV\u001b[0m\u001b[0;34m(\u001b[0m\u001b[0;34m\"4870a2649b6c4d3784fc8a24196ea690\"\u001b[0m\u001b[0;34m)\u001b[0m\u001b[0;34m\u001b[0m\u001b[0;34m\u001b[0m\u001b[0m\n\u001b[1;32m      4\u001b[0m \u001b[0mprint\u001b[0m\u001b[0;34m(\u001b[0m\u001b[0mdf\u001b[0m\u001b[0;34m)\u001b[0m\u001b[0;34m\u001b[0m\u001b[0;34m\u001b[0m\u001b[0m\n",
      "\u001b[0;32m~/Code/notion_to_df/NotionData/__init__.py\u001b[0m in \u001b[0;36m<module>\u001b[0;34m\u001b[0m\n\u001b[0;32m----> 1\u001b[0;31m \u001b[0;32mfrom\u001b[0m \u001b[0;34m.\u001b[0m\u001b[0mnotiondb_to_csv\u001b[0m \u001b[0;32mimport\u001b[0m \u001b[0mNotionToCSV\u001b[0m\u001b[0;34m\u001b[0m\u001b[0;34m\u001b[0m\u001b[0m\n\u001b[0m\u001b[1;32m      2\u001b[0m \u001b[0;32mfrom\u001b[0m \u001b[0;34m.\u001b[0m\u001b[0mnotiondb_to_csv\u001b[0m \u001b[0;32mimport\u001b[0m \u001b[0mnotion_db_to_df\u001b[0m\u001b[0;34m\u001b[0m\u001b[0;34m\u001b[0m\u001b[0m\n\u001b[1;32m      3\u001b[0m \u001b[0;34m\u001b[0m\u001b[0m\n\u001b[1;32m      4\u001b[0m __all__ = [\n\u001b[1;32m      5\u001b[0m     \u001b[0;34m\"NotionToCSV\"\u001b[0m\u001b[0;34m,\u001b[0m\u001b[0;34m\u001b[0m\u001b[0;34m\u001b[0m\u001b[0m\n",
      "\u001b[0;32m~/Code/notion_to_df/NotionData/notiondb_to_csv.py\u001b[0m in \u001b[0;36m<module>\u001b[0;34m\u001b[0m\n\u001b[1;32m      6\u001b[0m \u001b[0;34m\u001b[0m\u001b[0m\n\u001b[1;32m      7\u001b[0m \u001b[0;32mimport\u001b[0m \u001b[0mos\u001b[0m\u001b[0;34m\u001b[0m\u001b[0;34m\u001b[0m\u001b[0m\n\u001b[0;32m----> 8\u001b[0;31m \u001b[0;32mfrom\u001b[0m \u001b[0mdotenv\u001b[0m \u001b[0;32mimport\u001b[0m \u001b[0mload_dotenv\u001b[0m\u001b[0;34m\u001b[0m\u001b[0;34m\u001b[0m\u001b[0m\n\u001b[0m\u001b[1;32m      9\u001b[0m \u001b[0mload_dotenv\u001b[0m\u001b[0;34m(\u001b[0m\u001b[0;34m)\u001b[0m\u001b[0;34m\u001b[0m\u001b[0;34m\u001b[0m\u001b[0m\n\u001b[1;32m     10\u001b[0m \u001b[0mnotion\u001b[0m \u001b[0;34m=\u001b[0m \u001b[0mClient\u001b[0m\u001b[0;34m(\u001b[0m\u001b[0mauth\u001b[0m\u001b[0;34m=\u001b[0m\u001b[0mos\u001b[0m\u001b[0;34m.\u001b[0m\u001b[0menviron\u001b[0m\u001b[0;34m[\u001b[0m\u001b[0;34m\"NOTION_TOKEN\"\u001b[0m\u001b[0;34m]\u001b[0m\u001b[0;34m)\u001b[0m\u001b[0;34m\u001b[0m\u001b[0;34m\u001b[0m\u001b[0m\n",
      "\u001b[0;31mModuleNotFoundError\u001b[0m: No module named 'dotenv'"
     ]
    }
   ],
   "source": [
    "from NotionData import NotionToCSV\n",
    "\n",
    "df = NotionToCSV(\"4870a2649b6c4d3784fc8a24196ea690\")\n",
    "print(df)"
   ]
  },
  {
   "cell_type": "code",
   "execution_count": null,
   "metadata": {},
   "outputs": [],
   "source": [
    "#Test Parse Notion Page\n",
    "\n",
    "#Meaningful Life 335a46256271479f99551702c34bacae\n",
    "#Fact Example e5c98a65ed91442682a3edf03889cda9\n",
    "#entry = notion_db[\"results\"][1]\n",
    "\n",
    "\n",
    "#entry = notion.pages.retrieve('9599cb93d2eb42878465272bf7ed6135')\n",
    "#pprint(entry)\n",
    "\n",
    "#parse_page_properties(entry[\"properties\"])\n",
    "#parse_page_properties(entry[\"properties\"], relations=True)\n",
    "#pprint(parse_notion_page(entry))\n",
    "#pprint(parse_notion_page(entry, relations=False))"
   ]
  },
  {
   "cell_type": "code",
   "execution_count": null,
   "metadata": {},
   "outputs": [],
   "source": [
    "#Taxonomy Table: 2fbdd8aba1604e2385ed7be3a59d1984\n",
    "#Concepts Table: 763f8356f41c45e3934950696f00fa21\n",
    "#Movies 4870a2649b6c4d3784fc8a24196ea690\n",
    "#Podcasts c1f6b77ce50a47b7b1e524c923079c17\n",
    "\n",
    "#notion_to_csv(\"4870a2649b6c4d3784fc8a24196ea690\")\n",
    "\n",
    "#df = notion_db_to_df(\"4870a2649b6c4d3784fc8a24196ea690\")\n",
    "#df"
   ]
  }
 ],
 "metadata": {
  "interpreter": {
   "hash": "744bb00e3be192935443323dad962c8536d097d62ac773bb8c8608df11db5e6f"
  },
  "kernelspec": {
   "display_name": "Python 3.8.12 64-bit ('base': conda)",
   "language": "python",
   "name": "python3812jvsc74a57bd034368ba4908ea1be08ba769dfb7764ab7f8ead2384ebb5604cb86637573696f7"
  },
  "language_info": {
   "codemirror_mode": {
    "name": "ipython",
    "version": 3
   },
   "file_extension": ".py",
   "mimetype": "text/x-python",
   "name": "python",
   "nbconvert_exporter": "python",
   "pygments_lexer": "ipython3",
   "version": "3.8.12"
  }
 },
 "nbformat": 4,
 "nbformat_minor": 4
}
