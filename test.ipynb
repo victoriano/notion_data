{
 "cells": [
  {
   "cell_type": "code",
   "execution_count": 2,
   "metadata": {},
   "outputs": [],
   "source": [
    "from NotionData import NotionToCSV, get_all_db_entries\n",
    "from pprint import pprint\n",
    "\n",
    "#Taxonomy Table: 2fbdd8aba1604e2385ed7be3a59d1984\n",
    "#Concepts Table: 763f8356f41c45e3934950696f00fa21\n",
    "#Movies 4870a2649b6c4d3784fc8a24196ea690\n",
    "#Podcasts c1f6b77ce50a47b7b1e524c923079c17\n",
    "#Podcasts Channels d4a079211959486495bdef8b61b3e8bc\n",
    "\n",
    "#db = get_all_db_entries(\"d4a079211959486495bdef8b61b3e8bc\")\n",
    "#df = NotionToCSV(\"bf063bd3cdf14766b16901d182c42adf\", title_with_emoji=True, relations=True, filtering_keys=[\"Category\",\"Parent Category\", \"Concentration Required\", \"Type\"])\n",
    "\n",
    "df = NotionToCSV(\"bf063bd3cdf14766b16901d182c42adf\", title_with_emoji=True, relations=True, filtering_keys=[\"Category\",\"Parent Category\", \"Concentration Required\", \"Type\"])\n",
    "\n",
    "#pprint(db)"
   ]
  }
 ],
 "metadata": {
  "interpreter": {
   "hash": "744bb00e3be192935443323dad962c8536d097d62ac773bb8c8608df11db5e6f"
  },
  "kernelspec": {
   "display_name": "Python 3.10.2 64-bit ('myvenv': venv)",
   "language": "python",
   "name": "python3"
  },
  "language_info": {
   "codemirror_mode": {
    "name": "ipython",
    "version": 3
   },
   "file_extension": ".py",
   "mimetype": "text/x-python",
   "name": "python",
   "nbconvert_exporter": "python",
   "pygments_lexer": "ipython3",
   "version": "3.9.10"
  },
  "orig_nbformat": 4
 },
 "nbformat": 4,
 "nbformat_minor": 2
}
