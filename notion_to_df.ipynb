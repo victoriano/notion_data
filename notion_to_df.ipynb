{
 "cells": [
  {
   "cell_type": "code",
   "metadata": {
    "tags": [],
    "deepnote_to_be_reexecuted": false,
    "source_hash": "f10eda40",
    "execution_start": 1641200859826,
    "execution_millis": 4496,
    "is_code_hidden": false,
    "is_output_hidden": true,
    "cell_id": "00000-928b04d9-9b5d-4baf-994f-2382d55a0d02",
    "deepnote_cell_type": "code"
   },
   "source": "# Convert any Notion database into a CSV ready for analysis or Dataframe\n!pip install notion-client\n\nimport os\nimport logging\nimport collections\nimport pandas as pd\n\nfrom notion_client import Client, APIErrorCode, APIResponseError\nfrom pprint import pprint\n\nnotion = Client(auth=os.environ[\"NOTION_TOKEN\"])",
   "execution_count": 3,
   "outputs": [
    {
     "name": "stdout",
     "text": "Requirement already satisfied: notion-client in /root/venv/lib/python3.7/site-packages (0.8.0)\nRequirement already satisfied: httpx>=0.15.0 in /root/venv/lib/python3.7/site-packages (from notion-client) (0.21.1)\nRequirement already satisfied: rfc3986[idna2008]<2,>=1.3 in /root/venv/lib/python3.7/site-packages (from httpx>=0.15.0->notion-client) (1.5.0)\nRequirement already satisfied: certifi in /shared-libs/python3.7/py/lib/python3.7/site-packages (from httpx>=0.15.0->notion-client) (2021.10.8)\nRequirement already satisfied: httpcore<0.15.0,>=0.14.0 in /root/venv/lib/python3.7/site-packages (from httpx>=0.15.0->notion-client) (0.14.3)\nRequirement already satisfied: charset-normalizer in /shared-libs/python3.7/py-core/lib/python3.7/site-packages (from httpx>=0.15.0->notion-client) (2.0.9)\nRequirement already satisfied: sniffio in /root/venv/lib/python3.7/site-packages (from httpx>=0.15.0->notion-client) (1.2.0)\nRequirement already satisfied: idna; extra == \"idna2008\" in /shared-libs/python3.7/py-core/lib/python3.7/site-packages (from rfc3986[idna2008]<2,>=1.3->httpx>=0.15.0->notion-client) (3.3)\nRequirement already satisfied: anyio==3.* in /root/venv/lib/python3.7/site-packages (from httpcore<0.15.0,>=0.14.0->httpx>=0.15.0->notion-client) (3.4.0)\nRequirement already satisfied: h11<0.13,>=0.11 in /root/venv/lib/python3.7/site-packages (from httpcore<0.15.0,>=0.14.0->httpx>=0.15.0->notion-client) (0.12.0)\nRequirement already satisfied: typing-extensions; python_version < \"3.8\" in /shared-libs/python3.7/py-core/lib/python3.7/site-packages (from anyio==3.*->httpcore<0.15.0,>=0.14.0->httpx>=0.15.0->notion-client) (4.0.1)\n\u001b[33mWARNING: You are using pip version 20.1.1; however, version 21.3.1 is available.\nYou should consider upgrading via the '/root/venv/bin/python -m pip install --upgrade pip' command.\u001b[0m\n",
     "output_type": "stream",
     "data": {}
    }
   ]
  },
  {
   "cell_type": "code",
   "metadata": {
    "tags": [],
    "deepnote_to_be_reexecuted": false,
    "source_hash": "a022eabd",
    "execution_start": 1641200821845,
    "execution_millis": 40055334,
    "cell_id": "00001-da3a3e86-337f-4541-ada5-69ec66756681",
    "deepnote_cell_type": "code"
   },
   "source": "def get_all_db_entries(db_id):\n    \n    has_more = True\n    cursor = None\n\n    while has_more:        \n        #If first iteration with no cursor\n        if cursor == None:\n            db = notion.databases.query( **{ \"database_id\": db_id})\n            cursor = db[\"next_cursor\"]\n            has_more = db[\"has_more\"]\n\n        else:\n            more_results = notion.databases.query( **{ \"database_id\": db_id, \"start_cursor\":cursor})\n            db['results'].extend(more_results['results'])\n            cursor = more_results['next_cursor']\n            has_more = more_results[\"has_more\"]\n\n    return db",
   "execution_count": 2,
   "outputs": []
  },
  {
   "cell_type": "code",
   "metadata": {
    "tags": [],
    "deepnote_to_be_reexecuted": false,
    "source_hash": "24233cbd",
    "allow_embed": false,
    "execution_start": 1641160772097,
    "execution_millis": 6,
    "cell_id": "00002-5b772baa-426e-4c5d-9726-15a843a5b4e5",
    "deepnote_cell_type": "code"
   },
   "source": "def get_notion_page_title(page_id):\n    notion_page = notion.pages.retrieve(page_id)\n    for key, value in notion_page[\"properties\"].items():\n        if value[\"id\"] ==\"title\":\n            return value[\"title\"][0][\"plain_text\"]",
   "execution_count": 98,
   "outputs": []
  },
  {
   "cell_type": "code",
   "metadata": {
    "tags": [],
    "deepnote_to_be_reexecuted": false,
    "source_hash": "25d35181",
    "execution_start": 1641160775379,
    "execution_millis": 2,
    "cell_id": "00003-7dfbf709-4f5f-4046-b583-6e30a85f5231",
    "deepnote_cell_type": "code"
   },
   "source": "def get_notion_page_icon(page_id):\n    notion_page = notion.pages.retrieve(page_id)\n    if notion_page[\"icon\"] == None:\n        return None\n    elif notion_page[\"icon\"][\"type\"] == \"emoji\":\n        return notion_page[\"icon\"][\"emoji\"]\n    else:\n        return notion_page[\"icon\"][\"file\"][\"url\"]",
   "execution_count": 99,
   "outputs": []
  },
  {
   "cell_type": "code",
   "metadata": {
    "tags": [],
    "deepnote_to_be_reexecuted": false,
    "source_hash": "179f6925",
    "allow_embed": false,
    "execution_start": 1641160778605,
    "execution_millis": 0,
    "cell_id": "00004-202090ec-cee4-4895-a8b0-25f558359527",
    "deepnote_cell_type": "code"
   },
   "source": "def serialize_notion_page_icon(icon_field_value_obj):\n    if icon_field_value_obj == None:\n        return ''\n    elif icon_field_value_obj[\"type\"] == \"emoji\":\n        return icon_field_value_obj[\"emoji\"]\n    else:\n        return icon_field_value_obj[\"file\"][\"url\"]",
   "execution_count": 100,
   "outputs": []
  },
  {
   "cell_type": "code",
   "metadata": {
    "tags": [],
    "deepnote_to_be_reexecuted": false,
    "source_hash": "3940afd8",
    "allow_embed": false,
    "execution_start": 1641160782173,
    "execution_millis": 3,
    "cell_id": "00005-4f838e61-0d10-4a24-8676-4b501806958c",
    "deepnote_cell_type": "code"
   },
   "source": "def serialize_notion_page_title(page_properties):\n    for key, value in page_properties.items():\n        if value[\"id\"] ==\"title\":\n            return value[\"title\"][0][\"plain_text\"]",
   "execution_count": 101,
   "outputs": []
  },
  {
   "cell_type": "code",
   "metadata": {
    "tags": [],
    "deepnote_to_be_reexecuted": false,
    "source_hash": "a524a052",
    "execution_start": 1641160785635,
    "execution_millis": 1,
    "deepnote_output_heights": [
     78
    ],
    "cell_id": "00006-efeb7280-b0f7-4cdc-a59d-44487ea6925d",
    "deepnote_cell_type": "code"
   },
   "source": "def serialize_notion_relations(relation_field_value_obj, show_icon=True):\n    \n    relations = []\n\n    for relation in relation_field_value_obj[\"relation\"]:\n        icon = get_notion_page_icon(relation[\"id\"])\n        title = get_notion_page_title(relation[\"id\"])\n        #If the icon contains an image only serialize the title\n        if icon == None:\n            relations.append(title)\n        elif \"https://\" in  icon and show_icon:\n            relations.append(title)\n        #Otherwise serialize a combination of Icon + Title\n        elif show_icon:\n            relations.append(icon + \" \" + title)\n    \n    return relations",
   "execution_count": 102,
   "outputs": []
  },
  {
   "cell_type": "code",
   "metadata": {
    "tags": [],
    "deepnote_to_be_reexecuted": false,
    "source_hash": "88753fae",
    "deepnote_output_heights": [
     78
    ],
    "allow_embed": false,
    "execution_start": 1641160789283,
    "execution_millis": 3,
    "cell_id": "00007-96bd233e-2ca2-4cf5-a669-80dbfc9ad7f5",
    "deepnote_cell_type": "code"
   },
   "source": "def serialize_notion_multiselect(multiselect_field_value_obj):\n    \n    selected_options = []\n\n    for multiselect_option in multiselect_field_value_obj[\"multi_select\"]:\n        selected_options.append(multiselect_option[\"name\"])\n\n    return selected_options",
   "execution_count": 103,
   "outputs": []
  },
  {
   "cell_type": "code",
   "metadata": {
    "tags": [],
    "deepnote_to_be_reexecuted": false,
    "source_hash": "d6f640c3",
    "deepnote_output_heights": [
     78
    ],
    "allow_embed": false,
    "execution_start": 1641160792651,
    "execution_millis": 1,
    "cell_id": "00008-96a56433-9fa4-4dce-8743-3f1180c088be",
    "deepnote_cell_type": "code"
   },
   "source": "def serialize_notion_files(files_field_value_obj):\n    \n    files = []\n\n    for file_obj in files_field_value_obj[\"files\"]:\n        if file_obj[\"type\"] == 'external':\n            files.append(file_obj[\"external\"][\"url\"])\n        else:\n            files.append(file_obj[\"file\"][\"url\"])\n       \n    return files",
   "execution_count": 104,
   "outputs": []
  },
  {
   "cell_type": "code",
   "metadata": {
    "tags": [],
    "deepnote_to_be_reexecuted": false,
    "source_hash": "d2ad846c",
    "deepnote_output_heights": [
     78
    ],
    "allow_embed": false,
    "execution_start": 1641160794974,
    "execution_millis": 6,
    "cell_id": "00009-29e8bf60-3e26-44f2-a264-3df69cd1c819",
    "deepnote_cell_type": "code"
   },
   "source": "def serialize_people(people_field_value_obj):\n    \n    people = []\n\n    for person_obj in people_field_value_obj[\"people\"]:\n        people.append(person_obj[\"name\"])\n\n    return people",
   "execution_count": 105,
   "outputs": []
  },
  {
   "cell_type": "code",
   "metadata": {
    "tags": [],
    "deepnote_to_be_reexecuted": false,
    "source_hash": "da83fc",
    "execution_start": 1641160800005,
    "execution_millis": 3,
    "deepnote_output_heights": [
     78
    ],
    "cell_id": "00010-09f88293-cbb9-4ad5-9064-bf502fd0004e",
    "deepnote_cell_type": "code"
   },
   "source": "#Page Object Properties parsing\ndef parse_page_properties(properties_obj, relations=True, show_icon=True):\n\n    obj = {}\n\n    #TODO\n    #Missing: rollup, formula and content of page with block children\n\n    for key, value in properties_obj.items():\n        if value['type'] == \"title\":\n            #title is extracted from the page metadata\n             continue\n        elif value['type'] == \"rich_text\":\n            if len(value[\"rich_text\"]) == 0:\n                obj[key] = ''\n            else:\n                obj[key] = value[\"rich_text\"][0][\"plain_text\"]\n        elif value['type'] == \"select\":\n                if value[\"select\"] == None:\n                    obj[key] = ''\n                else:\n                    obj[key] = value[\"select\"][\"name\"]\n        elif value['type'] == \"number\":\n            if value[\"number\"] == None:\n                obj[key] = ''\n            else:\n                obj[key] = value[\"number\"]\n        elif value['type'] == \"url\":\n            obj[key] = value[\"url\"]\n        elif value['type'] == \"created_by\":\n            obj[key] = value[\"created_by\"][\"name\"]\n        elif value['type'] == \"email\":\n            obj[key] = value[\"email\"]\n        elif value['type'] == \"phone_number\":\n            obj[key] = value[\"phone_number\"]\n        elif value['type'] == \"checkbox\":\n            obj[key] = value[\"checkbox\"]\n        elif value['type'] == \"multi_select\":\n            obj[key] = serialize_notion_multiselect(value)\n        elif value['type'] == \"files\":\n            obj[key] = serialize_notion_files(value)\n        elif value['type'] == \"people\":\n            obj[key] = serialize_people(value)\n        elif value['type'] == \"relation\" and relations:\n            obj[key] = serialize_notion_relations(value, show_icon)\n\n    return(obj)\n\ndef parse_notion_page(entry, relations=True, show_icon=True):\n    serialize_page_metadata = { \n    \"title\" : serialize_notion_page_title(entry[\"properties\"]),\n    \"icon\" : serialize_notion_page_icon(entry[\"icon\"]),\n    \"created_time\" : entry[\"created_time\"],\n    \"last_edited_time\" : entry[\"last_edited_time\"],\n    \"page_url\":entry[\"url\"]\n    }\n\n    #Properties, unique to any page, are more complex\n    properties_serialized = parse_page_properties(entry[\"properties\"], relations, show_icon)\n\n    #Merge bot dictionaries into a single one\n    entire_page = {**serialize_page_metadata, **properties_serialized}\n    entire_page_ordered = collections.OrderedDict(entire_page)\n\n    return entire_page_ordered\n\ndef notion_db_to_df(db_id, relations=True, show_icon=True):\n    notion_db = get_all_db_entries(db_id)\n    pages = []\n    for result in notion_db[\"results\"]:\n        pages.append(parse_notion_page(result, relations, show_icon))\n    df = pd.DataFrame(pages)\n    return df\n\ndef notion_to_csv(db_id, name='notion_table',relations=True, show_icon=True):\n    df= notion_db_to_df(db_id, relations, show_icon)\n    path = name+'.csv'\n    df.to_csv(path, index=False)",
   "execution_count": 106,
   "outputs": []
  },
  {
   "cell_type": "code",
   "metadata": {
    "tags": [],
    "deepnote_to_be_reexecuted": false,
    "source_hash": "c8f05c46",
    "execution_start": 1641160804352,
    "execution_millis": 93220,
    "deepnote_output_heights": [
     611,
     611
    ],
    "deepnote_table_state": {
     "pageSize": 25,
     "pageIndex": 0,
     "filters": [],
     "sortBy": []
    },
    "deepnote_table_loading": false,
    "cell_id": "00011-9025b640-e465-4dfe-884f-cc0127a60da3",
    "deepnote_cell_type": "code"
   },
   "source": "#Taxonomy Table: 2fbdd8aba1604e2385ed7be3a59d1984\n#Concepts Table: 763f8356f41c45e3934950696f00fa21\n#Movies 4870a2649b6c4d3784fc8a24196ea690\n#Podcasts c1f6b77ce50a47b7b1e524c923079c17\n\nnotion_to_csv(\"4870a2649b6c4d3784fc8a24196ea690\")\n\ndf = notion_db_to_df(\"4870a2649b6c4d3784fc8a24196ea690\")\ndf",
   "execution_count": 107,
   "outputs": [
    {
     "output_type": "execute_result",
     "execution_count": 107,
     "data": {
      "application/vnd.deepnote.dataframe.v3+json": {
       "column_count": 22,
       "row_count": 115,
       "columns": [
        {
         "name": "title",
         "dtype": "object",
         "stats": {
          "unique_count": 113,
          "nan_count": 0,
          "categories": [
           {
            "name": "The Big Short",
            "count": 2
           },
           {
            "name": "Cinema Paradiso",
            "count": 2
           },
           {
            "name": "111 others",
            "count": 111
           }
          ]
         }
        },
        {
         "name": "icon",
         "dtype": "object",
         "stats": {
          "unique_count": 1,
          "nan_count": 0,
          "categories": [
           {
            "name": "",
            "count": 115
           }
          ]
         }
        },
        {
         "name": "created_time",
         "dtype": "object",
         "stats": {
          "unique_count": 1,
          "nan_count": 0,
          "categories": [
           {
            "name": "2021-12-29T08:34:00.000Z",
            "count": 115
           }
          ]
         }
        },
        {
         "name": "last_edited_time",
         "dtype": "object",
         "stats": {
          "unique_count": 4,
          "nan_count": 0,
          "categories": [
           {
            "name": "2021-12-29T08:34:00.000Z",
            "count": 108
           },
           {
            "name": "2022-01-02T21:29:00.000Z",
            "count": 3
           },
           {
            "name": "2 others",
            "count": 4
           }
          ]
         }
        },
        {
         "name": "page_url",
         "dtype": "object",
         "stats": {
          "unique_count": 115,
          "nan_count": 0,
          "categories": [
           {
            "name": "https://www.notion.so/Amor-Filmin-1c0851aa02bb4deb9e538add5ae3ee02",
            "count": 1
           },
           {
            "name": "https://www.notion.so/Yesterday-2019-352310c288854ab5aec94d4aacfdce49",
            "count": 1
           },
           {
            "name": "113 others",
            "count": 113
           }
          ]
         }
        },
        {
         "name": "Link To Watch",
         "dtype": "object",
         "stats": {
          "unique_count": 44,
          "nan_count": 70,
          "categories": [
           {
            "name": "",
            "count": 2
           },
           {
            "name": "43 others",
            "count": 43
           },
           {
            "name": "Missing",
            "count": 70
           }
          ]
         }
        },
        {
         "name": "Period",
         "dtype": "object",
         "stats": {
          "unique_count": 115,
          "nan_count": 0,
          "categories": [
           {
            "name": "[]",
            "count": 94
           },
           {
            "name": "['2020']",
            "count": 6
           },
           {
            "name": "9 others",
            "count": 15
           }
          ]
         }
        },
        {
         "name": "Category",
         "dtype": "object",
         "stats": {
          "unique_count": 115,
          "nan_count": 0,
          "categories": [
           {
            "name": "[]",
            "count": 79
           },
           {
            "name": "['💑 Love']",
            "count": 22
           },
           {
            "name": "9 others",
            "count": 14
           }
          ]
         }
        },
        {
         "name": "IMDB Score",
         "dtype": "object",
         "stats": {
          "unique_count": 23,
          "nan_count": 0,
          "categories": [
           {
            "name": "",
            "count": 65
           },
           {
            "name": "8",
            "count": 6
           },
           {
            "name": "21 others",
            "count": 44
           }
          ]
         }
        },
        {
         "name": "Type",
         "dtype": "object",
         "stats": {
          "unique_count": 3,
          "nan_count": 0,
          "categories": [
           {
            "name": "Movie",
            "count": 95
           },
           {
            "name": "",
            "count": 19
           },
           {
            "name": "Short Movie",
            "count": 1
           }
          ]
         }
        },
        {
         "name": "img",
         "dtype": "object",
         "stats": {
          "unique_count": 115,
          "nan_count": 0,
          "categories": [
           {
            "name": "[]",
            "count": 51
           },
           {
            "name": "['https://m.media-amazon.com/images/M/MV5BMjQ0NTI0NjkyN15BMl5BanBnXkFtZTgwNzY0MTE0NzM@._V1_FMjpg_UX1000_.jpg']",
            "count": 1
           },
           {
            "name": "63 others",
            "count": 63
           }
          ]
         }
        },
        {
         "name": "Status",
         "dtype": "object",
         "stats": {
          "unique_count": 4,
          "nan_count": 0,
          "categories": [
           {
            "name": "Watched",
            "count": 54
           },
           {
            "name": "Pending",
            "count": 40
           },
           {
            "name": "2 others",
            "count": 21
           }
          ]
         }
        },
        {
         "name": "IMDB",
         "dtype": "object",
         "stats": {
          "unique_count": 71,
          "nan_count": 44,
          "categories": [
           {
            "name": "https://www.imdb.com/title/tt8079248/?ref_=nv_sr_srsg_0",
            "count": 1
           },
           {
            "name": "70 others",
            "count": 70
           },
           {
            "name": "Missing",
            "count": 44
           }
          ]
         }
        },
        {
         "name": "Country",
         "dtype": "object",
         "stats": {
          "unique_count": 115,
          "nan_count": 0,
          "categories": [
           {
            "name": "[]",
            "count": 93
           },
           {
            "name": "['United States 🇺🇸']",
            "count": 10
           },
           {
            "name": "7 others",
            "count": 12
           }
          ]
         }
        },
        {
         "name": "My Score",
         "dtype": "object",
         "stats": {
          "unique_count": 13,
          "nan_count": 0,
          "categories": [
           {
            "name": "",
            "count": 43
           },
           {
            "name": "7",
            "count": 17
           },
           {
            "name": "11 others",
            "count": 55
           }
          ]
         }
        },
        {
         "name": "JustWatch",
         "dtype": "object",
         "stats": {
          "unique_count": 16,
          "nan_count": 99,
          "categories": [
           {
            "name": "https://www.imdb.com/title/tt8212958/",
            "count": 1
           },
           {
            "name": "15 others",
            "count": 15
           },
           {
            "name": "Missing",
            "count": 99
           }
          ]
         }
        },
        {
         "name": "Concepts",
         "dtype": "object",
         "stats": {
          "unique_count": 115,
          "nan_count": 0,
          "categories": [
           {
            "name": "[]",
            "count": 83
           },
           {
            "name": "['💔 Infidelity']",
            "count": 3
           },
           {
            "name": "26 others",
            "count": 29
           }
          ]
         }
        },
        {
         "name": "Platform",
         "dtype": "object",
         "stats": {
          "unique_count": 115,
          "nan_count": 0,
          "categories": [
           {
            "name": "[]",
            "count": 77
           },
           {
            "name": "['Filmin']",
            "count": 13
           },
           {
            "name": "7 others",
            "count": 25
           }
          ]
         }
        },
        {
         "name": "Why watch it",
         "dtype": "object",
         "stats": {
          "unique_count": 24,
          "nan_count": 0,
          "categories": [
           {
            "name": "",
            "count": 91
           },
           {
            "name": "Feels very real, chaotics, confusing bittersweet real life",
            "count": 2
           },
           {
            "name": "22 others",
            "count": 22
           }
          ]
         }
        },
        {
         "name": "Country Based",
         "dtype": "object",
         "stats": {
          "unique_count": 115,
          "nan_count": 0,
          "categories": [
           {
            "name": "[]",
            "count": 110
           },
           {
            "name": "['United States 🇺🇸']",
            "count": 3
           },
           {
            "name": "2 others",
            "count": 2
           }
          ]
         }
        },
        {
         "name": "Categories",
         "dtype": "object",
         "stats": {
          "unique_count": 115,
          "nan_count": 0,
          "categories": [
           {
            "name": "[]",
            "count": 115
           }
          ]
         }
        },
        {
         "name": "Main Characters Economic Class",
         "dtype": "object",
         "stats": {
          "unique_count": 115,
          "nan_count": 0,
          "categories": [
           {
            "name": "[]",
            "count": 115
           }
          ]
         }
        },
        {
         "name": "_deepnote_index_column",
         "dtype": "int64"
        }
       ],
       "rows": [
        {
         "title": "Amor - Filmin",
         "icon": "",
         "created_time": "2021-12-29T08:34:00.000Z",
         "last_edited_time": "2021-12-29T08:34:00.000Z",
         "page_url": "https://www.notion.so/Amor-Filmin-1c0851aa02bb4deb9e538add5ae3ee02",
         "Link To Watch": "https://www.filmin.es/catalogo/tema/las-favoritas-de-jesus-terres-nada-importa",
         "Period": "[]",
         "Category": "[]",
         "IMDB Score": "",
         "Type": "",
         "img": "[]",
         "Status": "",
         "IMDB": "None",
         "Country": "[]",
         "My Score": "",
         "JustWatch": "None",
         "Concepts": "[]",
         "Platform": "[]",
         "Why watch it": "",
         "Country Based": "[]",
         "Categories": "[]",
         "Main Characters Economic Class": "[]",
         "_deepnote_index_column": 0
        },
        {
         "title": "Yesterday (2019)",
         "icon": "",
         "created_time": "2021-12-29T08:34:00.000Z",
         "last_edited_time": "2022-01-02T21:29:00.000Z",
         "page_url": "https://www.notion.so/Yesterday-2019-352310c288854ab5aec94d4aacfdce49",
         "Link To Watch": "https://www.imdb.com/title/tt8079248/?ref_=nv_sr_srsg_0",
         "Period": "['2020']",
         "Category": "[]",
         "IMDB Score": "6.8",
         "Type": "Movie",
         "img": "['https://m.media-amazon.com/images/M/MV5BMjQ0NTI0NjkyN15BMl5BanBnXkFtZTgwNzY0MTE0NzM@._V1_FMjpg_UX…",
         "Status": "Watched",
         "IMDB": "https://www.imdb.com/title/tt8079248/?ref_=nv_sr_srsg_0",
         "Country": "[]",
         "My Score": "6",
         "JustWatch": "None",
         "Concepts": "[]",
         "Platform": "[]",
         "Why watch it": "",
         "Country Based": "['United States 🇺🇸', 'United Kingdom 🇬🇧']",
         "Categories": "[]",
         "Main Characters Economic Class": "[]",
         "_deepnote_index_column": 1
        },
        {
         "title": "Gattaca",
         "icon": "",
         "created_time": "2021-12-29T08:34:00.000Z",
         "last_edited_time": "2022-01-02T21:29:00.000Z",
         "page_url": "https://www.notion.so/Gattaca-40a619a02b8347c685e7f92583ff963c",
         "Link To Watch": "None",
         "Period": "[]",
         "Category": "[]",
         "IMDB Score": "",
         "Type": "Movie",
         "img": "[]",
         "Status": "Watched",
         "IMDB": "None",
         "Country": "[]",
         "My Score": "7",
         "JustWatch": "None",
         "Concepts": "[]",
         "Platform": "[]",
         "Why watch it": "",
         "Country Based": "[]",
         "Categories": "[]",
         "Main Characters Economic Class": "[]",
         "_deepnote_index_column": 2
        },
        {
         "title": "The Darjeeling Limited (2007)",
         "icon": "",
         "created_time": "2021-12-29T08:34:00.000Z",
         "last_edited_time": "2021-12-29T08:34:00.000Z",
         "page_url": "https://www.notion.so/The-Darjeeling-Limited-2007-4ca46b7fecd641dfafedf67b3602c1e6",
         "Link To Watch": "https://www.imdb.com/title/tt0838221/?ref_=ref_ext_justwatch",
         "Period": "[]",
         "Category": "[]",
         "IMDB Score": "7.2",
         "Type": "",
         "img": "['https://m.media-amazon.com/images/M/MV5BMTM0MTQ4MTgwOF5BMl5BanBnXkFtZTcwMDA3MDU1MQ@@._V1_FMjpg_UX…",
         "Status": "Pending",
         "IMDB": "https://www.imdb.com/title/tt0838221/?ref_=ref_ext_justwatch",
         "Country": "[]",
         "My Score": "",
         "JustWatch": "None",
         "Concepts": "[]",
         "Platform": "['Apple TV']",
         "Why watch it": "",
         "Country Based": "[]",
         "Categories": "[]",
         "Main Characters Economic Class": "[]",
         "_deepnote_index_column": 3
        },
        {
         "title": "Lo que arde (2019)",
         "icon": "",
         "created_time": "2021-12-29T08:34:00.000Z",
         "last_edited_time": "2021-12-29T08:34:00.000Z",
         "page_url": "https://www.notion.so/Lo-que-arde-2019-4ff9924915b3490cb66622d5f9be755a",
         "Link To Watch": "https://www.imdb.com/title/tt8212958/",
         "Period": "['2020']",
         "Category": "[]",
         "IMDB Score": "6.8",
         "Type": "Movie",
         "img": "['https://m.media-amazon.com/images/M/MV5BYmIwMmEwYmEtNTA0ZC00NjZlLTg4MTEtZDQwMWNkNTYyZDUwXkEyXkFqc…",
         "Status": "Pending",
         "IMDB": "https://www.imdb.com/title/tt8212958/",
         "Country": "['Spain 🇪🇸']",
         "My Score": "8",
         "JustWatch": "https://www.imdb.com/title/tt8212958/",
         "Concepts": "[]",
         "Platform": "['Apple TV']",
         "Why watch it": "",
         "Country Based": "[]",
         "Categories": "[]",
         "Main Characters Economic Class": "[]",
         "_deepnote_index_column": 4
        },
        {
         "title": "Hannah Arendt",
         "icon": "",
         "created_time": "2021-12-29T08:34:00.000Z",
         "last_edited_time": "2021-12-29T08:34:00.000Z",
         "page_url": "https://www.notion.so/Hannah-Arendt-cbb6c15d6da44fa38165cd9e7e886136",
         "Link To Watch": "https://click.justwatch.com/a?r=https://justwatch.com/es/pelicula/hannah-arendt?utm_source=share&ut…",
         "Period": "[]",
         "Category": "[]",
         "IMDB Score": "",
         "Type": "Movie",
         "img": "[]",
         "Status": "",
         "IMDB": "None",
         "Country": "[]",
         "My Score": "",
         "JustWatch": "None",
         "Concepts": "[]",
         "Platform": "[]",
         "Why watch it": "",
         "Country Based": "[]",
         "Categories": "[]",
         "Main Characters Economic Class": "[]",
         "_deepnote_index_column": 5
        },
        {
         "title": "It's Not About The Nail",
         "icon": "",
         "created_time": "2021-12-29T08:34:00.000Z",
         "last_edited_time": "2021-12-29T08:34:00.000Z",
         "page_url": "https://www.notion.so/It-s-Not-About-The-Nail-f34fe25942d949579d54a891bc88c960",
         "Link To Watch": "https://youtu.be/-4EDhdAHrOg",
         "Period": "[]",
         "Category": "['💑 Love']",
         "IMDB Score": "",
         "Type": "Short Movie",
         "img": "['https://i.ytimg.com/vi/-4EDhdAHrOg/hqdefault.jpg?sqp=-oaymwEZCNACELwBSFXyq4qpAwsIARUAAIhCGAFwAQ==…",
         "Status": "Watched",
         "IMDB": "https://youtu.be/-4EDhdAHrOg",
         "Country": "[]",
         "My Score": "8",
         "JustWatch": "None",
         "Concepts": "['🚻 Gender Differences']",
         "Platform": "[]",
         "Why watch it": "",
         "Country Based": "[]",
         "Categories": "[]",
         "Main Characters Economic Class": "[]",
         "_deepnote_index_column": 6
        },
        {
         "title": "La boda de mi mejor amigo",
         "icon": "",
         "created_time": "2021-12-29T08:34:00.000Z",
         "last_edited_time": "2021-12-29T08:34:00.000Z",
         "page_url": "https://www.notion.so/La-boda-de-mi-mejor-amigo-2b637e4a456a4026b2fe84ba785d8c81",
         "Link To Watch": "None",
         "Period": "[]",
         "Category": "[]",
         "IMDB Score": "",
         "Type": "Movie",
         "img": "[]",
         "Status": "Pending",
         "IMDB": "None",
         "Country": "[]",
         "My Score": "",
         "JustWatch": "https://click.justwatch.com/a?r=https://justwatch.com/es/pelicula/my-best-friends-wedding?utm_sourc…",
         "Concepts": "[]",
         "Platform": "['Netflix']",
         "Why watch it": "",
         "Country Based": "[]",
         "Categories": "[]",
         "Main Characters Economic Class": "[]",
         "_deepnote_index_column": 7
        },
        {
         "title": "La Lengua de las Mariposas",
         "icon": "",
         "created_time": "2021-12-29T08:34:00.000Z",
         "last_edited_time": "2021-12-29T08:34:00.000Z",
         "page_url": "https://www.notion.so/La-Lengua-de-las-Mariposas-5545b4ddfd1d46e0835b62a53ed756ac",
         "Link To Watch": "None",
         "Period": "[]",
         "Category": "['🎓 Learning', '💑 Love', '⚖ Politics & Law', '🐝 Nature']",
         "IMDB Score": "",
         "Type": "Movie",
         "img": "['https://m.media-amazon.com/images/M/MV5BZTAwNzQ1MTktZDRmMi00OTZjLWJmNjctMGM3ZTQxNjNlYTA4XkEyXkFqc…",
         "Status": "Watched",
         "IMDB": "https://www.imdb.com/title/tt0188030/",
         "Country": "[]",
         "My Score": "9",
         "JustWatch": "None",
         "Concepts": "['👨\\u200d🏫 Teaching', '👪 Parenting', '🎖 Wars', '🎩 Old Values', '☄ Bad Old Days']",
         "Platform": "[]",
         "Why watch it": "Teachers were a fundamental pillar of society in Spain during the first republic in the early 20 ce…",
         "Country Based": "[]",
         "Categories": "[]",
         "Main Characters Economic Class": "[]",
         "_deepnote_index_column": 8
        },
        {
         "title": "Parasite",
         "icon": "",
         "created_time": "2021-12-29T08:34:00.000Z",
         "last_edited_time": "2022-01-02T21:49:00.000Z",
         "page_url": "https://www.notion.so/Parasite-6a9cac7e98044d408099a4d4f9beb76a",
         "Link To Watch": "None",
         "Period": "[]",
         "Category": "['🏦 Economics', '💑 Love']",
         "IMDB Score": "8.6",
         "Type": "Movie",
         "img": "['https://m.media-amazon.com/images/M/MV5BYWZjMjk3ZTItODQ2ZC00NTY5LWE0ZDYtZTI3MjcwN2Q5NTVkXkEyXkFqc…",
         "Status": "Watched",
         "IMDB": "https://www.imdb.com/title/tt6751668/",
         "Country": "[]",
         "My Score": "9",
         "JustWatch": "None",
         "Concepts": "['💅 Inequality', '👪 Parenting']",
         "Platform": "[]",
         "Why watch it": "Very different from Hollywood movies in the good senses. Love the balance between comedy, message a…",
         "Country Based": "[]",
         "Categories": "[]",
         "Main Characters Economic Class": "[]",
         "_deepnote_index_column": 9
        },
        {
         "title": "The French Dispatch",
         "icon": "",
         "created_time": "2021-12-29T08:34:00.000Z",
         "last_edited_time": "2021-12-29T08:34:00.000Z",
         "page_url": "https://www.notion.so/The-French-Dispatch-813daabaddf94e99abbb005eb480e1f5",
         "Link To Watch": "https://www.imdb.com/title/tt8847712/",
         "Period": "[]",
         "Category": "[]",
         "IMDB Score": "7.3",
         "Type": "",
         "img": "['https://m.media-amazon.com/images/M/MV5BNmQxZTNiODYtNzBhYy00MzVlLWJlN2UtNTc4YWZjMDIwMmEzXkEyXkFqc…",
         "Status": "Pending",
         "IMDB": "https://www.imdb.com/title/tt8847712/",
         "Country": "['France 🇫🇷']",
         "My Score": "8",
         "JustWatch": "https://www.imdb.com/title/tt8847712/",
         "Concepts": "[]",
         "Platform": "[]",
         "Why watch it": "",
         "Country Based": "[]",
         "Categories": "[]",
         "Main Characters Economic Class": "[]",
         "_deepnote_index_column": 10
        },
        {
         "title": "Una cuestión de tiempo (2013)",
         "icon": "",
         "created_time": "2021-12-29T08:34:00.000Z",
         "last_edited_time": "2021-12-29T08:34:00.000Z",
         "page_url": "https://www.notion.so/Una-cuesti-n-de-tiempo-2013-f6b812ad12e14bf982d332ec998a714d",
         "Link To Watch": "None",
         "Period": "[]",
         "Category": "['💑 Love']",
         "IMDB Score": "",
         "Type": "Movie",
         "img": "[]",
         "Status": "",
         "IMDB": "https://m.imdb.com/title/tt2194499/",
         "Country": "[]",
         "My Score": "9",
         "JustWatch": "None",
         "Concepts": "[]",
         "Platform": "[]",
         "Why watch it": "",
         "Country Based": "[]",
         "Categories": "[]",
         "Main Characters Economic Class": "[]",
         "_deepnote_index_column": 11
        },
        {
         "title": "A Beautiful Day in the Neighborhood",
         "icon": "",
         "created_time": "2021-12-29T08:34:00.000Z",
         "last_edited_time": "2021-12-29T08:34:00.000Z",
         "page_url": "https://www.notion.so/A-Beautiful-Day-in-the-Neighborhood-0395835258284bf78b69b80d968e0c1a",
         "Link To Watch": "None",
         "Period": "[]",
         "Category": "['🌱 Meaningful Life']",
         "IMDB Score": "8.3",
         "Type": "Movie",
         "img": "[]",
         "Status": "Watched",
         "IMDB": "https://www.imdb.com/title/tt3224458/",
         "Country": "[]",
         "My Score": "8.5",
         "JustWatch": "None",
         "Concepts": "['👪 Parenting', 'Death']",
         "Platform": "[]",
         "Why watch it": "",
         "Country Based": "[]",
         "Categories": "[]",
         "Main Characters Economic Class": "[]",
         "_deepnote_index_column": 12
        },
        {
         "title": "Marriage Story",
         "icon": "",
         "created_time": "2021-12-29T08:34:00.000Z",
         "last_edited_time": "2021-12-29T08:34:00.000Z",
         "page_url": "https://www.notion.so/Marriage-Story-33e0950c234348b4896039864f3ebd1e",
         "Link To Watch": "None",
         "Period": "[]",
         "Category": "['💑 Love']",
         "IMDB Score": "",
         "Type": "Movie",
         "img": "['https://m.media-amazon.com/images/M/MV5BZGVmY2RjNDgtMTc3Yy00YmY0LTgwODItYzBjNWJhNTRlYjdkXkEyXkFqc…",
         "Status": "Watched",
         "IMDB": "https://www.imdb.com/title/tt7653254/",
         "Country": "[]",
         "My Score": "8.5",
         "JustWatch": "None",
         "Concepts": "['💍 Marriage', '💔 Sentimental Breakup']",
         "Platform": "[]",
         "Why watch it": "",
         "Country Based": "[]",
         "Categories": "[]",
         "Main Characters Economic Class": "[]",
         "_deepnote_index_column": 13
        },
        {
         "title": "Columbus (2017) - IMDb",
         "icon": "",
         "created_time": "2021-12-29T08:34:00.000Z",
         "last_edited_time": "2021-12-29T08:34:00.000Z",
         "page_url": "https://www.notion.so/Columbus-2017-IMDb-8102e7c0181d43ce9c5e1d4f1416562e",
         "Link To Watch": "https://www.imdb.com/title/tt5990474/",
         "Period": "['2010']",
         "Category": "[]",
         "IMDB Score": "7.2",
         "Type": "Movie",
         "img": "['https://m.media-amazon.com/images/M/MV5BNTliZmExNmItZDJhZS00MjBjLThiMmEtZTJhZjNlMTMwYzk3XkEyXkFqc…",
         "Status": "Watched",
         "IMDB": "https://www.imdb.com/title/tt5990474/",
         "Country": "['United States 🇺🇸']",
         "My Score": "7",
         "JustWatch": "https://www.imdb.com/title/tt5990474/",
         "Concepts": "['🏯 Architecture']",
         "Platform": "['Filmin']",
         "Why watch it": "Nice city influeced by modern architecture",
         "Country Based": "[]",
         "Categories": "[]",
         "Main Characters Economic Class": "[]",
         "_deepnote_index_column": 14
        },
        {
         "title": "Network 1976",
         "icon": "",
         "created_time": "2021-12-29T08:34:00.000Z",
         "last_edited_time": "2021-12-29T08:34:00.000Z",
         "page_url": "https://www.notion.so/Network-1976-8a24be885fda4863a5aa982d3756f3cd",
         "Link To Watch": "None",
         "Period": "[]",
         "Category": "[]",
         "IMDB Score": "",
         "Type": "Movie",
         "img": "[]",
         "Status": "Pending",
         "IMDB": "None",
         "Country": "[]",
         "My Score": "8",
         "JustWatch": "None",
         "Concepts": "[]",
         "Platform": "['Filmin']",
         "Why watch it": "",
         "Country Based": "[]",
         "Categories": "[]",
         "Main Characters Economic Class": "[]",
         "_deepnote_index_column": 15
        },
        {
         "title": "Begin Again",
         "icon": "",
         "created_time": "2021-12-29T08:34:00.000Z",
         "last_edited_time": "2021-12-29T08:34:00.000Z",
         "page_url": "https://www.notion.so/Begin-Again-90514b79c8524f708856433d26151ecc",
         "Link To Watch": "None",
         "Period": "[]",
         "Category": "[]",
         "IMDB Score": "",
         "Type": "Movie",
         "img": "[]",
         "Status": "Watched",
         "IMDB": "None",
         "Country": "[]",
         "My Score": "8.5",
         "JustWatch": "None",
         "Concepts": "[]",
         "Platform": "[]",
         "Why watch it": "",
         "Country Based": "[]",
         "Categories": "[]",
         "Main Characters Economic Class": "[]",
         "_deepnote_index_column": 16
        },
        {
         "title": "Big Fish",
         "icon": "",
         "created_time": "2021-12-29T08:34:00.000Z",
         "last_edited_time": "2021-12-29T08:34:00.000Z",
         "page_url": "https://www.notion.so/Big-Fish-cbe9c8946aee429a84d15b913e102cad",
         "Link To Watch": "None",
         "Period": "[]",
         "Category": "[]",
         "IMDB Score": "8",
         "Type": "Movie",
         "img": "['https://m.media-amazon.com/images/M/MV5BMmU3NzIyODctYjVhOC00NzBmLTlhNWItMzBlODEwZTlmMjUzXkEyXkFqc…",
         "Status": "Pending",
         "IMDB": "https://www.imdb.com/title/tt0319061/",
         "Country": "[]",
         "My Score": "",
         "JustWatch": "None",
         "Concepts": "[]",
         "Platform": "['Netflix']",
         "Why watch it": "",
         "Country Based": "[]",
         "Categories": "[]",
         "Main Characters Economic Class": "[]",
         "_deepnote_index_column": 17
        },
        {
         "title": "Bad Education (2004)",
         "icon": "",
         "created_time": "2021-12-29T08:34:00.000Z",
         "last_edited_time": "2021-12-29T08:34:00.000Z",
         "page_url": "https://www.notion.so/Bad-Education-2004-f96a9e1cd7a842519813cd0adee7331c",
         "Link To Watch": "None",
         "Period": "[]",
         "Category": "[]",
         "IMDB Score": "7.4",
         "Type": "Movie",
         "img": "['https://m.media-amazon.com/images/M/MV5BMmFjNWU1YjMtOWVhZC00OGI4LTgwN2UtNDQ1ODMxZGZmZTFmXkEyXkFqc…",
         "Status": "Pending",
         "IMDB": "https://www.imdb.com/title/tt0275491/",
         "Country": "[]",
         "My Score": "",
         "JustWatch": "None",
         "Concepts": "[]",
         "Platform": "['Netflix']",
         "Why watch it": "",
         "Country Based": "[]",
         "Categories": "[]",
         "Main Characters Economic Class": "[]",
         "_deepnote_index_column": 18
        },
        {
         "title": "Fue la mano de Dios (2021)",
         "icon": "",
         "created_time": "2021-12-29T08:34:00.000Z",
         "last_edited_time": "2021-12-29T08:34:00.000Z",
         "page_url": "https://www.notion.so/Fue-la-mano-de-Dios-2021-1aad60b152ce4149bb84860d8a964aa1",
         "Link To Watch": "https://www.imdb.com/title/tt12680684/",
         "Period": "[]",
         "Category": "[]",
         "IMDB Score": "7.6",
         "Type": "Movie",
         "img": "['https://m.media-amazon.com/images/M/MV5BZmE4NzM4YmItOTRkYS00NTEyLThlNDItNzJjMTNlMTgwMzEyXkEyXkFqc…",
         "Status": "Pending",
         "IMDB": "https://www.imdb.com/title/tt12680684/",
         "Country": "[]",
         "My Score": "10",
         "JustWatch": "https://www.imdb.com/title/tt12680684/",
         "Concepts": "[]",
         "Platform": "['Netflix']",
         "Why watch it": "",
         "Country Based": "[]",
         "Categories": "[]",
         "Main Characters Economic Class": "[]",
         "_deepnote_index_column": 19
        },
        {
         "title": "Hannah y sus hermanas (1986)",
         "icon": "",
         "created_time": "2021-12-29T08:34:00.000Z",
         "last_edited_time": "2021-12-29T08:34:00.000Z",
         "page_url": "https://www.notion.so/Hannah-y-sus-hermanas-1986-326c99cfe7784cea9c6ad2a4b1e28d35",
         "Link To Watch": "",
         "Period": "['1980']",
         "Category": "['💑 Love']",
         "IMDB Score": "7.9",
         "Type": "Movie",
         "img": "[]",
         "Status": "Watched",
         "IMDB": "https://www.imdb.com/title/tt0091167/",
         "Country": "['United States 🇺🇸']",
         "My Score": "7",
         "JustWatch": "None",
         "Concepts": "['💔 Infidelity']",
         "Platform": "['Filmin']",
         "Why watch it": "",
         "Country Based": "[]",
         "Categories": "[]",
         "Main Characters Economic Class": "[]",
         "_deepnote_index_column": 20
        },
        {
         "title": "Lugares Comunes",
         "icon": "",
         "created_time": "2021-12-29T08:34:00.000Z",
         "last_edited_time": "2021-12-29T08:34:00.000Z",
         "page_url": "https://www.notion.so/Lugares-Comunes-7fa0b4a519a844cd95a95efb0d90fd9d",
         "Link To Watch": "https://www.filmin.es/pelicula/lugares-comunes",
         "Period": "[]",
         "Category": "['💑 Love']",
         "IMDB Score": "",
         "Type": "Movie",
         "img": "['https://m.media-amazon.com/images/M/MV5BMTUxMjk3MTE5NV5BMl5BanBnXkFtZTcwOTM1MzMzMQ@@._V1_.jpg']",
         "Status": "Watched",
         "IMDB": "https://www.imdb.com/title/tt0329330",
         "Country": "[]",
         "My Score": "8",
         "JustWatch": "None",
         "Concepts": "['💍 Marriage']",
         "Platform": "[]",
         "Why watch it": "Mature, rational, intelectual love of an Argentinian good man and a Spanish women living a difficul…",
         "Country Based": "[]",
         "Categories": "[]",
         "Main Characters Economic Class": "[]",
         "_deepnote_index_column": 21
        },
        {
         "title": "Borat Subsequent Moviefilm - película: Ver online",
         "icon": "",
         "created_time": "2021-12-29T08:34:00.000Z",
         "last_edited_time": "2021-12-29T08:34:00.000Z",
         "page_url": "https://www.notion.so/Borat-Subsequent-Moviefilm-pel-cula-Ver-online-8f7c2fc2ecbd403cb0b643b76eb1a9…",
         "Link To Watch": "https://click.justwatch.com/a?r=https://justwatch.com/es/pelicula/borat-subsequent-moviefilm?utm_so…",
         "Period": "[]",
         "Category": "[]",
         "IMDB Score": "",
         "Type": "",
         "img": "[]",
         "Status": "",
         "IMDB": "None",
         "Country": "[]",
         "My Score": "",
         "JustWatch": "None",
         "Concepts": "[]",
         "Platform": "[]",
         "Why watch it": "",
         "Country Based": "[]",
         "Categories": "[]",
         "Main Characters Economic Class": "[]",
         "_deepnote_index_column": 22
        },
        {
         "title": "Cuando menos te lo esperas... ",
         "icon": "",
         "created_time": "2021-12-29T08:34:00.000Z",
         "last_edited_time": "2021-12-29T08:34:00.000Z",
         "page_url": "https://www.notion.so/Cuando-menos-te-lo-esperas-aa962a9910a24b219a2afcae4c1c6301",
         "Link To Watch": "https://click.justwatch.com/a?r=https://justwatch.com/es/pelicula/somethings-gotta-give?utm_source=…",
         "Period": "[]",
         "Category": "[]",
         "IMDB Score": "",
         "Type": "",
         "img": "[]",
         "Status": "",
         "IMDB": "None",
         "Country": "[]",
         "My Score": "",
         "JustWatch": "None",
         "Concepts": "[]",
         "Platform": "[]",
         "Why watch it": "",
         "Country Based": "[]",
         "Categories": "[]",
         "Main Characters Economic Class": "[]",
         "_deepnote_index_column": 23
        },
        {
         "title": "The Great Escape (1963)",
         "icon": "",
         "created_time": "2021-12-29T08:34:00.000Z",
         "last_edited_time": "2021-12-29T08:34:00.000Z",
         "page_url": "https://www.notion.so/The-Great-Escape-1963-b5d9d733d00b494baf1ae873e7f11b59",
         "Link To Watch": "None",
         "Period": "[]",
         "Category": "[]",
         "IMDB Score": "",
         "Type": "",
         "img": "[]",
         "Status": "Pending",
         "IMDB": "https://www.imdb.com/title/tt0057115/",
         "Country": "[]",
         "My Score": "",
         "JustWatch": "None",
         "Concepts": "[]",
         "Platform": "[]",
         "Why watch it": "",
         "Country Based": "[]",
         "Categories": "[]",
         "Main Characters Economic Class": "[]",
         "_deepnote_index_column": 24
        }
       ]
      },
      "text/plain": "                             title icon              created_time  \\\n0                    Amor - Filmin       2021-12-29T08:34:00.000Z   \n1                 Yesterday (2019)       2021-12-29T08:34:00.000Z   \n2                          Gattaca       2021-12-29T08:34:00.000Z   \n3    The Darjeeling Limited (2007)       2021-12-29T08:34:00.000Z   \n4               Lo que arde (2019)       2021-12-29T08:34:00.000Z   \n..                             ...  ...                       ...   \n110                  WALL·E (2008)       2021-12-29T08:34:00.000Z   \n111            The Young Karl Marx       2021-12-29T08:34:00.000Z   \n112                           Mapa       2021-12-29T08:34:00.000Z   \n113                            Her       2021-12-29T08:34:00.000Z   \n114                          Yi yi       2021-12-29T08:34:00.000Z   \n\n             last_edited_time  \\\n0    2021-12-29T08:34:00.000Z   \n1    2022-01-02T21:29:00.000Z   \n2    2022-01-02T21:29:00.000Z   \n3    2021-12-29T08:34:00.000Z   \n4    2021-12-29T08:34:00.000Z   \n..                        ...   \n110  2021-12-29T08:34:00.000Z   \n111  2021-12-29T08:34:00.000Z   \n112  2021-12-29T08:34:00.000Z   \n113  2022-01-02T21:48:00.000Z   \n114  2021-12-29T08:34:00.000Z   \n\n                                              page_url  \\\n0    https://www.notion.so/Amor-Filmin-1c0851aa02bb...   \n1    https://www.notion.so/Yesterday-2019-352310c28...   \n2    https://www.notion.so/Gattaca-40a619a02b8347c6...   \n3    https://www.notion.so/The-Darjeeling-Limited-2...   \n4    https://www.notion.so/Lo-que-arde-2019-4ff9924...   \n..                                                 ...   \n110  https://www.notion.so/WALL-E-2008-6c14201f2325...   \n111  https://www.notion.so/The-Young-Karl-Marx-bde8...   \n112  https://www.notion.so/Mapa-f60a9ed87cba452dac4...   \n113  https://www.notion.so/Her-254ff6e4c4d74af4bfe5...   \n114  https://www.notion.so/Yi-yi-2f77f952b0344dae9a...   \n\n                                         Link To Watch  Period  Category  \\\n0    https://www.filmin.es/catalogo/tema/las-favori...      []        []   \n1    https://www.imdb.com/title/tt8079248/?ref_=nv_...  [2020]        []   \n2                                                 None      []        []   \n3    https://www.imdb.com/title/tt0838221/?ref_=ref...      []        []   \n4                https://www.imdb.com/title/tt8212958/  [2020]        []   \n..                                                 ...     ...       ...   \n110                                               None      []        []   \n111                                                     [1850]        []   \n112                https://www.filmin.es/pelicula/mapa      []  [💑 Love]   \n113                                               None      []  [💑 Love]   \n114                                               None      []        []   \n\n    IMDB Score   Type  ...                                               IMDB  \\\n0                      ...                                               None   \n1          6.8  Movie  ...  https://www.imdb.com/title/tt8079248/?ref_=nv_...   \n2               Movie  ...                                               None   \n3          7.2         ...  https://www.imdb.com/title/tt0838221/?ref_=ref...   \n4          6.8  Movie  ...              https://www.imdb.com/title/tt8212958/   \n..         ...    ...  ...                                                ...   \n110        8.4  Movie  ...              https://www.imdb.com/title/tt0910970/   \n111        6.6  Movie  ...              https://www.imdb.com/title/tt1699518/   \n112             Movie  ...                                               None   \n113          8  Movie  ...              https://www.imdb.com/title/tt1798709/   \n114             Movie  ...                                               None   \n\n        Country My Score                              JustWatch  \\\n0            []                                            None   \n1            []        6                                   None   \n2            []        7                                   None   \n3            []                                            None   \n4    [Spain 🇪🇸]        8  https://www.imdb.com/title/tt8212958/   \n..          ...      ...                                    ...   \n110          []        9                                   None   \n111          []        7                                   None   \n112          []        8                                   None   \n113          []       10                                   None   \n114          []                                            None   \n\n                           Concepts    Platform  \\\n0                                []          []   \n1                                []          []   \n2                                []          []   \n3                                []  [Apple TV]   \n4                                []  [Apple TV]   \n..                              ...         ...   \n110  [☀️ Good Future Days - Utopia]  [Disney +]   \n111    [🇧🇳 Capitalism vs Socialism]    [Filmin]   \n112         [💔 Sentimental Breakup]          []   \n113         [💔 Sentimental Breakup]          []   \n114                              []          []   \n\n                                          Why watch it  \\\n0                                                        \n1                                                        \n2                                                        \n3                                                        \n4                                                        \n..                                                 ...   \n110                                                      \n111                                                      \n112  Very original and real docu movie from with re...   \n113  Deep emotions expressed in believable dystopia...   \n114                                                      \n\n                                  Country Based Categories  \\\n0                                            []         []   \n1         [United States 🇺🇸, United Kingdom 🇬🇧]         []   \n2                                            []         []   \n3                                            []         []   \n4                                            []         []   \n..                                          ...        ...   \n110                                          []         []   \n111  [France 🇫🇷, United Kingdom 🇬🇧, Germany 🇩🇪]         []   \n112                                          []         []   \n113                                          []         []   \n114                                          []         []   \n\n    Main Characters Economic Class  \n0                               []  \n1                               []  \n2                               []  \n3                               []  \n4                               []  \n..                             ...  \n110                             []  \n111                             []  \n112                             []  \n113                             []  \n114                             []  \n\n[115 rows x 22 columns]",
      "text/html": "<div>\n<style scoped>\n    .dataframe tbody tr th:only-of-type {\n        vertical-align: middle;\n    }\n\n    .dataframe tbody tr th {\n        vertical-align: top;\n    }\n\n    .dataframe thead th {\n        text-align: right;\n    }\n</style>\n<table border=\"1\" class=\"dataframe\">\n  <thead>\n    <tr style=\"text-align: right;\">\n      <th></th>\n      <th>title</th>\n      <th>icon</th>\n      <th>created_time</th>\n      <th>last_edited_time</th>\n      <th>page_url</th>\n      <th>Link To Watch</th>\n      <th>Period</th>\n      <th>Category</th>\n      <th>IMDB Score</th>\n      <th>Type</th>\n      <th>...</th>\n      <th>IMDB</th>\n      <th>Country</th>\n      <th>My Score</th>\n      <th>JustWatch</th>\n      <th>Concepts</th>\n      <th>Platform</th>\n      <th>Why watch it</th>\n      <th>Country Based</th>\n      <th>Categories</th>\n      <th>Main Characters Economic Class</th>\n    </tr>\n  </thead>\n  <tbody>\n    <tr>\n      <th>0</th>\n      <td>Amor - Filmin</td>\n      <td></td>\n      <td>2021-12-29T08:34:00.000Z</td>\n      <td>2021-12-29T08:34:00.000Z</td>\n      <td>https://www.notion.so/Amor-Filmin-1c0851aa02bb...</td>\n      <td>https://www.filmin.es/catalogo/tema/las-favori...</td>\n      <td>[]</td>\n      <td>[]</td>\n      <td></td>\n      <td></td>\n      <td>...</td>\n      <td>None</td>\n      <td>[]</td>\n      <td></td>\n      <td>None</td>\n      <td>[]</td>\n      <td>[]</td>\n      <td></td>\n      <td>[]</td>\n      <td>[]</td>\n      <td>[]</td>\n    </tr>\n    <tr>\n      <th>1</th>\n      <td>Yesterday (2019)</td>\n      <td></td>\n      <td>2021-12-29T08:34:00.000Z</td>\n      <td>2022-01-02T21:29:00.000Z</td>\n      <td>https://www.notion.so/Yesterday-2019-352310c28...</td>\n      <td>https://www.imdb.com/title/tt8079248/?ref_=nv_...</td>\n      <td>[2020]</td>\n      <td>[]</td>\n      <td>6.8</td>\n      <td>Movie</td>\n      <td>...</td>\n      <td>https://www.imdb.com/title/tt8079248/?ref_=nv_...</td>\n      <td>[]</td>\n      <td>6</td>\n      <td>None</td>\n      <td>[]</td>\n      <td>[]</td>\n      <td></td>\n      <td>[United States 🇺🇸, United Kingdom 🇬🇧]</td>\n      <td>[]</td>\n      <td>[]</td>\n    </tr>\n    <tr>\n      <th>2</th>\n      <td>Gattaca</td>\n      <td></td>\n      <td>2021-12-29T08:34:00.000Z</td>\n      <td>2022-01-02T21:29:00.000Z</td>\n      <td>https://www.notion.so/Gattaca-40a619a02b8347c6...</td>\n      <td>None</td>\n      <td>[]</td>\n      <td>[]</td>\n      <td></td>\n      <td>Movie</td>\n      <td>...</td>\n      <td>None</td>\n      <td>[]</td>\n      <td>7</td>\n      <td>None</td>\n      <td>[]</td>\n      <td>[]</td>\n      <td></td>\n      <td>[]</td>\n      <td>[]</td>\n      <td>[]</td>\n    </tr>\n    <tr>\n      <th>3</th>\n      <td>The Darjeeling Limited (2007)</td>\n      <td></td>\n      <td>2021-12-29T08:34:00.000Z</td>\n      <td>2021-12-29T08:34:00.000Z</td>\n      <td>https://www.notion.so/The-Darjeeling-Limited-2...</td>\n      <td>https://www.imdb.com/title/tt0838221/?ref_=ref...</td>\n      <td>[]</td>\n      <td>[]</td>\n      <td>7.2</td>\n      <td></td>\n      <td>...</td>\n      <td>https://www.imdb.com/title/tt0838221/?ref_=ref...</td>\n      <td>[]</td>\n      <td></td>\n      <td>None</td>\n      <td>[]</td>\n      <td>[Apple TV]</td>\n      <td></td>\n      <td>[]</td>\n      <td>[]</td>\n      <td>[]</td>\n    </tr>\n    <tr>\n      <th>4</th>\n      <td>Lo que arde (2019)</td>\n      <td></td>\n      <td>2021-12-29T08:34:00.000Z</td>\n      <td>2021-12-29T08:34:00.000Z</td>\n      <td>https://www.notion.so/Lo-que-arde-2019-4ff9924...</td>\n      <td>https://www.imdb.com/title/tt8212958/</td>\n      <td>[2020]</td>\n      <td>[]</td>\n      <td>6.8</td>\n      <td>Movie</td>\n      <td>...</td>\n      <td>https://www.imdb.com/title/tt8212958/</td>\n      <td>[Spain 🇪🇸]</td>\n      <td>8</td>\n      <td>https://www.imdb.com/title/tt8212958/</td>\n      <td>[]</td>\n      <td>[Apple TV]</td>\n      <td></td>\n      <td>[]</td>\n      <td>[]</td>\n      <td>[]</td>\n    </tr>\n    <tr>\n      <th>...</th>\n      <td>...</td>\n      <td>...</td>\n      <td>...</td>\n      <td>...</td>\n      <td>...</td>\n      <td>...</td>\n      <td>...</td>\n      <td>...</td>\n      <td>...</td>\n      <td>...</td>\n      <td>...</td>\n      <td>...</td>\n      <td>...</td>\n      <td>...</td>\n      <td>...</td>\n      <td>...</td>\n      <td>...</td>\n      <td>...</td>\n      <td>...</td>\n      <td>...</td>\n      <td>...</td>\n    </tr>\n    <tr>\n      <th>110</th>\n      <td>WALL·E (2008)</td>\n      <td></td>\n      <td>2021-12-29T08:34:00.000Z</td>\n      <td>2021-12-29T08:34:00.000Z</td>\n      <td>https://www.notion.so/WALL-E-2008-6c14201f2325...</td>\n      <td>None</td>\n      <td>[]</td>\n      <td>[]</td>\n      <td>8.4</td>\n      <td>Movie</td>\n      <td>...</td>\n      <td>https://www.imdb.com/title/tt0910970/</td>\n      <td>[]</td>\n      <td>9</td>\n      <td>None</td>\n      <td>[☀️ Good Future Days - Utopia]</td>\n      <td>[Disney +]</td>\n      <td></td>\n      <td>[]</td>\n      <td>[]</td>\n      <td>[]</td>\n    </tr>\n    <tr>\n      <th>111</th>\n      <td>The Young Karl Marx</td>\n      <td></td>\n      <td>2021-12-29T08:34:00.000Z</td>\n      <td>2021-12-29T08:34:00.000Z</td>\n      <td>https://www.notion.so/The-Young-Karl-Marx-bde8...</td>\n      <td></td>\n      <td>[1850]</td>\n      <td>[]</td>\n      <td>6.6</td>\n      <td>Movie</td>\n      <td>...</td>\n      <td>https://www.imdb.com/title/tt1699518/</td>\n      <td>[]</td>\n      <td>7</td>\n      <td>None</td>\n      <td>[🇧🇳 Capitalism vs Socialism]</td>\n      <td>[Filmin]</td>\n      <td></td>\n      <td>[France 🇫🇷, United Kingdom 🇬🇧, Germany 🇩🇪]</td>\n      <td>[]</td>\n      <td>[]</td>\n    </tr>\n    <tr>\n      <th>112</th>\n      <td>Mapa</td>\n      <td></td>\n      <td>2021-12-29T08:34:00.000Z</td>\n      <td>2021-12-29T08:34:00.000Z</td>\n      <td>https://www.notion.so/Mapa-f60a9ed87cba452dac4...</td>\n      <td>https://www.filmin.es/pelicula/mapa</td>\n      <td>[]</td>\n      <td>[💑 Love]</td>\n      <td></td>\n      <td>Movie</td>\n      <td>...</td>\n      <td>None</td>\n      <td>[]</td>\n      <td>8</td>\n      <td>None</td>\n      <td>[💔 Sentimental Breakup]</td>\n      <td>[]</td>\n      <td>Very original and real docu movie from with re...</td>\n      <td>[]</td>\n      <td>[]</td>\n      <td>[]</td>\n    </tr>\n    <tr>\n      <th>113</th>\n      <td>Her</td>\n      <td></td>\n      <td>2021-12-29T08:34:00.000Z</td>\n      <td>2022-01-02T21:48:00.000Z</td>\n      <td>https://www.notion.so/Her-254ff6e4c4d74af4bfe5...</td>\n      <td>None</td>\n      <td>[]</td>\n      <td>[💑 Love]</td>\n      <td>8</td>\n      <td>Movie</td>\n      <td>...</td>\n      <td>https://www.imdb.com/title/tt1798709/</td>\n      <td>[]</td>\n      <td>10</td>\n      <td>None</td>\n      <td>[💔 Sentimental Breakup]</td>\n      <td>[]</td>\n      <td>Deep emotions expressed in believable dystopia...</td>\n      <td>[]</td>\n      <td>[]</td>\n      <td>[]</td>\n    </tr>\n    <tr>\n      <th>114</th>\n      <td>Yi yi</td>\n      <td></td>\n      <td>2021-12-29T08:34:00.000Z</td>\n      <td>2021-12-29T08:34:00.000Z</td>\n      <td>https://www.notion.so/Yi-yi-2f77f952b0344dae9a...</td>\n      <td>None</td>\n      <td>[]</td>\n      <td>[]</td>\n      <td></td>\n      <td>Movie</td>\n      <td>...</td>\n      <td>None</td>\n      <td>[]</td>\n      <td></td>\n      <td>None</td>\n      <td>[]</td>\n      <td>[]</td>\n      <td></td>\n      <td>[]</td>\n      <td>[]</td>\n      <td>[]</td>\n    </tr>\n  </tbody>\n</table>\n<p>115 rows × 22 columns</p>\n</div>"
     },
     "metadata": {}
    }
   ]
  },
  {
   "cell_type": "code",
   "metadata": {
    "tags": [],
    "deepnote_to_be_reexecuted": false,
    "source_hash": "6441830b",
    "execution_start": 1641160052658,
    "execution_millis": 182,
    "deepnote_output_heights": [
     611
    ],
    "cell_id": "00012-b799d940-dbb4-4f89-aa53-0b3933cb5415",
    "deepnote_cell_type": "code"
   },
   "source": "#Test Parse Notion Page\n\n#Meaningful Life 335a46256271479f99551702c34bacae\n#Fact Example e5c98a65ed91442682a3edf03889cda9\n#entry = notion_db[\"results\"][1]\n\n\nentry = notion.pages.retrieve('9599cb93d2eb42878465272bf7ed6135')\npprint(entry)\n\n#parse_page_properties(entry[\"properties\"])\n#parse_page_properties(entry[\"properties\"], relations=True)\n#pprint(parse_notion_page(entry))\n#pprint(parse_notion_page(entry, relations=False))",
   "execution_count": 94,
   "outputs": [
    {
     "name": "stdout",
     "text": "{'archived': False,\n 'cover': None,\n 'created_time': '2021-12-29T08:36:00.000Z',\n 'icon': None,\n 'id': '9599cb93-d2eb-4287-8465-272bf7ed6135',\n 'last_edited_time': '2021-12-29T08:36:00.000Z',\n 'object': 'page',\n 'parent': {'database_id': 'c1f6b77c-e50a-47b7-b1e5-24c923079c17',\n            'type': 'database_id'},\n 'properties': {'Category': {'id': 'q*x2',\n                             'relation': [{'id': '127ebba8-63e3-4648-b1b8-167ac1ae58f4'},\n                                          {'id': '269bbe99-b440-42fa-875f-530267ac343b'}],\n                             'type': 'relation'},\n                'Concepts': {'id': '7%2BAD',\n                             'relation': [],\n                             'type': 'relation'},\n                'Name': {'id': 'title',\n                         'title': [{'annotations': {'bold': False,\n                                                    'code': False,\n                                                    'color': 'default',\n                                                    'italic': False,\n                                                    'strikethrough': False,\n                                                    'underline': False},\n                                    'href': None,\n                                    'plain_text': 'Freakonomics',\n                                    'text': {'content': 'Freakonomics',\n                                             'link': None},\n                                    'type': 'text'}],\n                         'type': 'title'},\n                'Parent Category': {'id': '0%25%2Fc',\n                                    'rollup': {'array': [{'relation': [{'id': '269bbe99-b440-42fa-875f-530267ac343b'}],\n                                                          'type': 'relation'},\n                                                         {'relation': [],\n                                                          'type': 'relation'}],\n                                               'function': 'show_original',\n                                               'type': 'array'},\n                                    'type': 'rollup'},\n                'Score': {'id': 'p8wt', 'number': 10, 'type': 'number'},\n                'link': {'id': \"%238q'\",\n                         'type': 'url',\n                         'url': 'http://freakonomics.com/archive/'}},\n 'url': 'https://www.notion.so/Freakonomics-9599cb93d2eb42878465272bf7ed6135'}\n",
     "output_type": "stream",
     "data": {}
    }
   ]
  },
  {
   "cell_type": "markdown",
   "source": "<a style='text-decoration:none;line-height:16px;display:flex;color:#5B5B62;padding:10px;justify-content:end;' href='https://deepnote.com?utm_source=created-in-deepnote-cell&projectId=4846e004-81b1-4f92-ba55-ed76244bfec5' target=\"_blank\">\n<img alt='Created in deepnote.com' style='display:inline;max-height:16px;margin:0px;margin-right:7.5px;' src='data:image/svg+xml;base64,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' > </img>\nCreated in <span style='font-weight:600;margin-left:4px;'>Deepnote</span></a>",
   "metadata": {
    "tags": [],
    "created_in_deepnote_cell": true,
    "deepnote_cell_type": "markdown"
   }
  }
 ],
 "nbformat": 4,
 "nbformat_minor": 2,
 "metadata": {
  "orig_nbformat": 2,
  "deepnote": {
   "is_reactive": false
  },
  "deepnote_notebook_id": "9335d743-64c7-40bf-84d4-2eb3815ec35a",
  "deepnote_execution_queue": []
 }
}