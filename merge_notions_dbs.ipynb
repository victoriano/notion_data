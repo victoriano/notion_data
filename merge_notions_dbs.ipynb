{
 "cells": [
  {
   "cell_type": "code",
   "execution_count": 40,
   "metadata": {},
   "outputs": [],
   "source": [
    "from notion_client import Client, APIErrorCode, APIResponseError\n",
    "from NotionData import get_all_db_entries\n",
    "\n",
    "import os\n",
    "from dotenv import load_dotenv\n",
    "load_dotenv()\n",
    "notion = Client(auth=os.environ[\"NOTION_TOKEN\"])"
   ]
  },
  {
   "cell_type": "code",
   "execution_count": 41,
   "metadata": {},
   "outputs": [],
   "source": [
    "#https://developers.notion.com/reference/post-page\n",
    "#https://github.com/ramnes/notion-sdk-py/blob/main/notion_client/api_endpoints.py\n",
    "\n",
    "def merge_notion_dbs(notion_db_origin_id, notion_db_origin_target):\n",
    "    #Get all entries from Concepts\n",
    "    db = get_all_db_entries(notion_db_origin_id)\n",
    "\n",
    "    target_db_id = notion_db_origin_target\n",
    "    parent = {\"type\": \"database_id\", \"database_id\": target_db_id}\n",
    "    counter = 0\n",
    "\n",
    "    for db_entry in db[\"results\"][:3]:\n",
    "        counter = counter + 1\n",
    "        newpost = notion.pages.create(\n",
    "                parent=parent, icon=db_entry[\"icon\"], properties=db_entry[\"properties\"]\n",
    "        )\n",
    "    \n",
    "    return counter\n"
   ]
  },
  {
   "cell_type": "code",
   "execution_count": 42,
   "metadata": {},
   "outputs": [
    {
     "name": "stdout",
     "output_type": "stream",
     "text": [
      "3\n"
     ]
    }
   ],
   "source": [
    "\n",
    "concepts_id = \"26d358edbcdb41a3aad5024aa7e09429\"\n",
    "taxonomy_id = \"bf063bd3-cdf1-4766-b169-01d182c42adf\"\n",
    "\n",
    "new_entries = merge_notion_dbs(concepts_id, taxonomy_id)\n",
    "print(new_entries)"
   ]
  }
 ],
 "metadata": {
  "interpreter": {
   "hash": "95850a3084a528a0695e7a05a1b5b5414fd979c18fe0bc48d5930dfe18423087"
  },
  "kernelspec": {
   "display_name": "Python 3.9.10 64-bit ('venv': venv)",
   "language": "python",
   "name": "python3"
  },
  "language_info": {
   "codemirror_mode": {
    "name": "ipython",
    "version": 3
   },
   "file_extension": ".py",
   "mimetype": "text/x-python",
   "name": "python",
   "nbconvert_exporter": "python",
   "pygments_lexer": "ipython3",
   "version": "3.9.10"
  },
  "orig_nbformat": 4
 },
 "nbformat": 4,
 "nbformat_minor": 2
}
