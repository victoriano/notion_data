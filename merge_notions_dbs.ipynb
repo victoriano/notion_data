{
 "cells": [
  {
   "cell_type": "code",
   "execution_count": 3,
   "metadata": {},
   "outputs": [
    {
     "name": "stdout",
     "output_type": "stream",
     "text": [
      "197\n"
     ]
    }
   ],
   "source": [
    "from NotionData import merge_notion_dbs\n",
    "\n",
    "\n",
    "concepts_id = \"26d358edbcdb41a3aad5024aa7e09429\"\n",
    "taxonomy_id = \"bf063bd3-cdf1-4766-b169-01d182c42adf\"\n",
    "\n",
    "#new_entries = merge_notion_dbs(concepts_id, taxonomy_id, max_elements=10)\n",
    "new_entries = merge_notion_dbs(concepts_id, taxonomy_id)\n",
    "print(new_entries)"
   ]
  }
 ],
 "metadata": {
  "interpreter": {
   "hash": "95850a3084a528a0695e7a05a1b5b5414fd979c18fe0bc48d5930dfe18423087"
  },
  "kernelspec": {
   "display_name": "Python 3.9.10 64-bit ('venv': venv)",
   "language": "python",
   "name": "python3"
  },
  "language_info": {
   "codemirror_mode": {
    "name": "ipython",
    "version": 3
   },
   "file_extension": ".py",
   "mimetype": "text/x-python",
   "name": "python",
   "nbconvert_exporter": "python",
   "pygments_lexer": "ipython3",
   "version": "3.9.10"
  },
  "orig_nbformat": 4
 },
 "nbformat": 4,
 "nbformat_minor": 2
}
